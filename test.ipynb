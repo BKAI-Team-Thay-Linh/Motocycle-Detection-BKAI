{
 "cells": [
  {
   "cell_type": "code",
   "execution_count": 6,
   "metadata": {},
   "outputs": [
    {
     "name": "stdout",
     "output_type": "stream",
     "text": [
      "D:\\Data Deep Learning\\datamotor\\motor\\motor\n"
     ]
    }
   ],
   "source": [
    "data_path = r'D:\\Data Deep Learning\\datamotor\\motor\\motor'\n",
    "\n",
    "print(os.path.abspath(data_path))"
   ]
  },
  {
   "cell_type": "code",
   "execution_count": 10,
   "metadata": {},
   "outputs": [],
   "source": [
    "import json\n",
    "import os\n",
    "from PIL import Image\n",
    "from torchvision import transforms as T\n",
    "from torch.utils.data import Dataset\n",
    "import numpy as np\n",
    "\n",
    "import mortobike_project as mp\n",
    "\n",
    "\n",
    "class MotorBikeDataset(Dataset):\n",
    "    def __init__(self, config_path: str, session: str = 'train', data_mode: str = 'csv', **kwargs):\n",
    "        \"\"\"\n",
    "            In this class, there are two data mode to choose from:\n",
    "            - `csv`: You need to provide a folder containing the images, and a csv file containing the labels\n",
    "\n",
    "            - `ssl`: In this mode, you just need to import list of folder paths, which are divided into classes already\n",
    "\n",
    "        Args:\n",
    "            `config_path` (str): The path to the config file\n",
    "            `session` (str, optional): The session of the dataset, must be in [`train`, `val`, `test`]\n",
    "            `data_mode` (str, optional): The data mode. Defaults to `csv`.\n",
    "            `kwargs`: Other arguments:\n",
    "\n",
    "            - For `csv` mode:\n",
    "                `folder_path` (str): The folder containing the images\n",
    "                `csv_path` (str): The csv file containing the labels\n",
    "            - For `ssl` mode:\n",
    "                'folder_paths' (list): The list of folder paths, each folder path is a string to the folder containing the images of a class\n",
    "        \"\"\"\n",
    "\n",
    "        assert session in ['train', 'val', 'test'], 'Invalid session, must be in [train, val, test]'\n",
    "\n",
    "        assert data_mode in ['csv', 'ssl'], 'Invalid data mode, must be in [csv, ssl]'\n",
    "\n",
    "        self.data_mode = data_mode\n",
    "        self.session = session\n",
    "        self.kwargs = kwargs\n",
    "        self.config_path = config_path\n",
    "\n",
    "        self.labels = {}\n",
    "\n",
    "        if not os.path.exists(config_path):\n",
    "            raise ValueError(f'Config path {config_path} does not exist')\n",
    "\n",
    "        with open(os.path.join(self.config_path, 'class.json'), 'r') as f:\n",
    "            self.config_class: dict = json.load(f)\n",
    "\n",
    "        # Define the image transform\n",
    "        self.transform = mp.Transform(session)\n",
    "\n",
    "        # Load the dataset in the folder\n",
    "        self.load_dataset()\n",
    "\n",
    "    def load_dataset(self):\n",
    "        if self.data_mode == 'csv':\n",
    "            # TODO: Load the dataset from and match the label from the csv file\n",
    "            pass\n",
    "        else:\n",
    "            self.folder_paths = self.kwargs.get('folder_paths', None)\n",
    "\n",
    "            # 1 folder is \"xe_so\", 2 folder is \"xe_ga\", 3, 4, 5 folder is \"others\"\n",
    "            self.classes = os.listdir(self.folder_paths[0])\n",
    "            \n",
    "            for folder in self.folder_paths:\n",
    "                for folder_class in self.classes:\n",
    "                    for img in os.listdir(os.path.join(folder, folder_class)):\n",
    "                        img_path = os.path.join(folder, folder_class, img)\n",
    "                        self.labels[img_path] = int(folder_class) if folder_class in ('1', '2') else 3\n",
    "\n",
    "    def __len__(self):\n",
    "        return len(self.labels)\n",
    "\n",
    "    def __getitem__(self, index):\n",
    "        img_path = list(self.labels.keys())[index]\n",
    "        label = self.labels[img_path]\n",
    "\n",
    "        img = Image.open(img_path).convert('RGB') \n",
    "\n",
    "        if self.transform is not None:\n",
    "            # Convert the image to numpy array\n",
    "            img_np = np.array(img)\n",
    "            \n",
    "            img = self.transform(img_np)\n",
    "\n",
    "        return img, label\n"
   ]
  },
  {
   "cell_type": "code",
   "execution_count": 11,
   "metadata": {},
   "outputs": [
    {
     "ename": "TypeError",
     "evalue": "image must be numpy array type",
     "output_type": "error",
     "traceback": [
      "\u001b[1;31m---------------------------------------------------------------------------\u001b[0m",
      "\u001b[1;31mTypeError\u001b[0m                                 Traceback (most recent call last)",
      "Cell \u001b[1;32mIn[11], line 8\u001b[0m\n\u001b[0;32m      1\u001b[0m dataset \u001b[38;5;241m=\u001b[39m MotorBikeDataset(\n\u001b[0;32m      2\u001b[0m     config_path\u001b[38;5;241m=\u001b[39m\u001b[38;5;124m'\u001b[39m\u001b[38;5;124msrc/mortobike_project/config\u001b[39m\u001b[38;5;124m'\u001b[39m,\n\u001b[0;32m      3\u001b[0m     session\u001b[38;5;241m=\u001b[39m\u001b[38;5;124m'\u001b[39m\u001b[38;5;124mtrain\u001b[39m\u001b[38;5;124m'\u001b[39m,\n\u001b[0;32m      4\u001b[0m     data_mode\u001b[38;5;241m=\u001b[39m\u001b[38;5;124m'\u001b[39m\u001b[38;5;124mssl\u001b[39m\u001b[38;5;124m'\u001b[39m,\n\u001b[0;32m      5\u001b[0m     folder_paths\u001b[38;5;241m=\u001b[39m[os\u001b[38;5;241m.\u001b[39mpath\u001b[38;5;241m.\u001b[39mjoin(data_path, x) \u001b[38;5;28;01mfor\u001b[39;00m x \u001b[38;5;129;01min\u001b[39;00m (\u001b[38;5;124m'\u001b[39m\u001b[38;5;124mtest\u001b[39m\u001b[38;5;124m'\u001b[39m, \u001b[38;5;124m'\u001b[39m\u001b[38;5;124mtrain\u001b[39m\u001b[38;5;124m'\u001b[39m, \u001b[38;5;124m'\u001b[39m\u001b[38;5;124mval\u001b[39m\u001b[38;5;124m'\u001b[39m)]\n\u001b[0;32m      6\u001b[0m )\n\u001b[1;32m----> 8\u001b[0m \u001b[43mdataset\u001b[49m\u001b[43m[\u001b[49m\u001b[38;5;241;43m0\u001b[39;49m\u001b[43m]\u001b[49m\n",
      "Cell \u001b[1;32mIn[10], line 80\u001b[0m, in \u001b[0;36mMotorBikeDataset.__getitem__\u001b[1;34m(self, index)\u001b[0m\n\u001b[0;32m     77\u001b[0m img \u001b[38;5;241m=\u001b[39m Image\u001b[38;5;241m.\u001b[39mopen(img_path)\u001b[38;5;241m.\u001b[39mconvert(\u001b[38;5;124m'\u001b[39m\u001b[38;5;124mRGB\u001b[39m\u001b[38;5;124m'\u001b[39m) \n\u001b[0;32m     79\u001b[0m \u001b[38;5;28;01mif\u001b[39;00m \u001b[38;5;28mself\u001b[39m\u001b[38;5;241m.\u001b[39mtransform \u001b[38;5;129;01mis\u001b[39;00m \u001b[38;5;129;01mnot\u001b[39;00m \u001b[38;5;28;01mNone\u001b[39;00m:\n\u001b[1;32m---> 80\u001b[0m     img \u001b[38;5;241m=\u001b[39m \u001b[38;5;28;43mself\u001b[39;49m\u001b[38;5;241;43m.\u001b[39;49m\u001b[43mtransform\u001b[49m\u001b[43m(\u001b[49m\u001b[43mimg\u001b[49m\u001b[43m)\u001b[49m\n\u001b[0;32m     82\u001b[0m \u001b[38;5;28;01mreturn\u001b[39;00m img, label\n",
      "File \u001b[1;32m~\\Documents\\GitHub\\Motocycle-Detection-BKAI\\src\\mortobike_project\\utils\\tranforms.py:37\u001b[0m, in \u001b[0;36mTransform.__call__\u001b[1;34m(self, image)\u001b[0m\n\u001b[0;32m     36\u001b[0m \u001b[38;5;28;01mdef\u001b[39;00m \u001b[38;5;21m__call__\u001b[39m(\u001b[38;5;28mself\u001b[39m, image):\n\u001b[1;32m---> 37\u001b[0m     \u001b[38;5;28;01mreturn\u001b[39;00m \u001b[38;5;28;43mself\u001b[39;49m\u001b[38;5;241;43m.\u001b[39;49m\u001b[43maug\u001b[49m\u001b[43m(\u001b[49m\u001b[43mimage\u001b[49m\u001b[38;5;241;43m=\u001b[39;49m\u001b[43mimage\u001b[49m\u001b[43m)\u001b[49m[\u001b[38;5;124m'\u001b[39m\u001b[38;5;124mimage\u001b[39m\u001b[38;5;124m'\u001b[39m]\n",
      "File \u001b[1;32mc:\\Users\\QUANPC\\.conda\\envs\\lavis\\lib\\site-packages\\albumentations\\core\\composition.py:195\u001b[0m, in \u001b[0;36mCompose.__call__\u001b[1;34m(self, force_apply, *args, **data)\u001b[0m\n\u001b[0;32m    193\u001b[0m     \u001b[38;5;28;01mraise\u001b[39;00m \u001b[38;5;167;01mKeyError\u001b[39;00m(\u001b[38;5;124m\"\u001b[39m\u001b[38;5;124mYou have to pass data to augmentations as named arguments, for example: aug(image=image)\u001b[39m\u001b[38;5;124m\"\u001b[39m)\n\u001b[0;32m    194\u001b[0m \u001b[38;5;28;01mif\u001b[39;00m \u001b[38;5;28mself\u001b[39m\u001b[38;5;241m.\u001b[39mis_check_args:\n\u001b[1;32m--> 195\u001b[0m     \u001b[38;5;28;43mself\u001b[39;49m\u001b[38;5;241;43m.\u001b[39;49m\u001b[43m_check_args\u001b[49m\u001b[43m(\u001b[49m\u001b[38;5;241;43m*\u001b[39;49m\u001b[38;5;241;43m*\u001b[39;49m\u001b[43mdata\u001b[49m\u001b[43m)\u001b[49m\n\u001b[0;32m    196\u001b[0m \u001b[38;5;28;01massert\u001b[39;00m \u001b[38;5;28misinstance\u001b[39m(force_apply, (\u001b[38;5;28mbool\u001b[39m, \u001b[38;5;28mint\u001b[39m)), \u001b[38;5;124m\"\u001b[39m\u001b[38;5;124mforce_apply must have bool or int type\u001b[39m\u001b[38;5;124m\"\u001b[39m\n\u001b[0;32m    197\u001b[0m need_to_run \u001b[38;5;241m=\u001b[39m force_apply \u001b[38;5;129;01mor\u001b[39;00m random\u001b[38;5;241m.\u001b[39mrandom() \u001b[38;5;241m<\u001b[39m \u001b[38;5;28mself\u001b[39m\u001b[38;5;241m.\u001b[39mp\n",
      "File \u001b[1;32mc:\\Users\\QUANPC\\.conda\\envs\\lavis\\lib\\site-packages\\albumentations\\core\\composition.py:275\u001b[0m, in \u001b[0;36mCompose._check_args\u001b[1;34m(self, **kwargs)\u001b[0m\n\u001b[0;32m    273\u001b[0m \u001b[38;5;28;01mif\u001b[39;00m internal_data_name \u001b[38;5;129;01min\u001b[39;00m checked_single:\n\u001b[0;32m    274\u001b[0m     \u001b[38;5;28;01mif\u001b[39;00m \u001b[38;5;129;01mnot\u001b[39;00m \u001b[38;5;28misinstance\u001b[39m(data, np\u001b[38;5;241m.\u001b[39mndarray):\n\u001b[1;32m--> 275\u001b[0m         \u001b[38;5;28;01mraise\u001b[39;00m \u001b[38;5;167;01mTypeError\u001b[39;00m(\u001b[38;5;124m\"\u001b[39m\u001b[38;5;132;01m{}\u001b[39;00m\u001b[38;5;124m must be numpy array type\u001b[39m\u001b[38;5;124m\"\u001b[39m\u001b[38;5;241m.\u001b[39mformat(data_name))\n\u001b[0;32m    276\u001b[0m     shapes\u001b[38;5;241m.\u001b[39mappend(data\u001b[38;5;241m.\u001b[39mshape[:\u001b[38;5;241m2\u001b[39m])\n\u001b[0;32m    277\u001b[0m \u001b[38;5;28;01mif\u001b[39;00m internal_data_name \u001b[38;5;129;01min\u001b[39;00m checked_multi:\n",
      "\u001b[1;31mTypeError\u001b[0m: image must be numpy array type"
     ]
    }
   ],
   "source": [
    "dataset = MotorBikeDataset(\n",
    "    config_path='src/mortobike_project/config',\n",
    "    session='train',\n",
    "    data_mode='ssl',\n",
    "    folder_paths=[os.path.join(data_path, x) for x in ('test', 'train', 'val')]\n",
    ")\n",
    "\n",
    "dataset[0]"
   ]
  }
 ],
 "metadata": {
  "kernelspec": {
   "display_name": "lavis",
   "language": "python",
   "name": "python3"
  },
  "language_info": {
   "codemirror_mode": {
    "name": "ipython",
    "version": 3
   },
   "file_extension": ".py",
   "mimetype": "text/x-python",
   "name": "python",
   "nbconvert_exporter": "python",
   "pygments_lexer": "ipython3",
   "version": "3.8.18"
  }
 },
 "nbformat": 4,
 "nbformat_minor": 2
}
