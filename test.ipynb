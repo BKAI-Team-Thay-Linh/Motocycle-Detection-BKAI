{
 "cells": [
  {
   "cell_type": "code",
   "execution_count": 16,
   "metadata": {},
   "outputs": [
    {
     "data": {
      "text/html": [
       "<div>\n",
       "<style scoped>\n",
       "    .dataframe tbody tr th:only-of-type {\n",
       "        vertical-align: middle;\n",
       "    }\n",
       "\n",
       "    .dataframe tbody tr th {\n",
       "        vertical-align: top;\n",
       "    }\n",
       "\n",
       "    .dataframe thead th {\n",
       "        text-align: right;\n",
       "    }\n",
       "</style>\n",
       "<table border=\"1\" class=\"dataframe\">\n",
       "  <thead>\n",
       "    <tr style=\"text-align: right;\">\n",
       "      <th></th>\n",
       "      <th>imagename</th>\n",
       "      <th>answer</th>\n",
       "      <th>prob</th>\n",
       "      <th>prob_0</th>\n",
       "      <th>prob_1</th>\n",
       "      <th>prob_2</th>\n",
       "      <th>prob_3</th>\n",
       "      <th>prob_4</th>\n",
       "    </tr>\n",
       "  </thead>\n",
       "  <tbody>\n",
       "    <tr>\n",
       "      <th>0</th>\n",
       "      <td>folder1_image_5865.jpg</td>\n",
       "      <td>4</td>\n",
       "      <td>0.999708</td>\n",
       "      <td>0.000129</td>\n",
       "      <td>0.000157</td>\n",
       "      <td>0.000005</td>\n",
       "      <td>1.801262e-08</td>\n",
       "      <td>0.999708</td>\n",
       "    </tr>\n",
       "    <tr>\n",
       "      <th>1</th>\n",
       "      <td>folder1_image_1277.jpg</td>\n",
       "      <td>4</td>\n",
       "      <td>0.999708</td>\n",
       "      <td>0.000118</td>\n",
       "      <td>0.000171</td>\n",
       "      <td>0.000003</td>\n",
       "      <td>5.518995e-08</td>\n",
       "      <td>0.999708</td>\n",
       "    </tr>\n",
       "    <tr>\n",
       "      <th>2</th>\n",
       "      <td>folder2_image_592.jpg</td>\n",
       "      <td>4</td>\n",
       "      <td>0.999708</td>\n",
       "      <td>0.000108</td>\n",
       "      <td>0.000178</td>\n",
       "      <td>0.000006</td>\n",
       "      <td>7.814338e-09</td>\n",
       "      <td>0.999708</td>\n",
       "    </tr>\n",
       "    <tr>\n",
       "      <th>3</th>\n",
       "      <td>folder1_image_25904.jpg</td>\n",
       "      <td>4</td>\n",
       "      <td>0.999704</td>\n",
       "      <td>0.000107</td>\n",
       "      <td>0.000186</td>\n",
       "      <td>0.000002</td>\n",
       "      <td>6.559484e-09</td>\n",
       "      <td>0.999704</td>\n",
       "    </tr>\n",
       "    <tr>\n",
       "      <th>4</th>\n",
       "      <td>folder1_image_29700.jpg</td>\n",
       "      <td>4</td>\n",
       "      <td>0.999633</td>\n",
       "      <td>0.000104</td>\n",
       "      <td>0.000258</td>\n",
       "      <td>0.000005</td>\n",
       "      <td>1.411263e-08</td>\n",
       "      <td>0.999633</td>\n",
       "    </tr>\n",
       "  </tbody>\n",
       "</table>\n",
       "</div>"
      ],
      "text/plain": [
       "                 imagename  answer      prob    prob_0    prob_1    prob_2  \\\n",
       "0   folder1_image_5865.jpg       4  0.999708  0.000129  0.000157  0.000005   \n",
       "1   folder1_image_1277.jpg       4  0.999708  0.000118  0.000171  0.000003   \n",
       "2    folder2_image_592.jpg       4  0.999708  0.000108  0.000178  0.000006   \n",
       "3  folder1_image_25904.jpg       4  0.999704  0.000107  0.000186  0.000002   \n",
       "4  folder1_image_29700.jpg       4  0.999633  0.000104  0.000258  0.000005   \n",
       "\n",
       "         prob_3    prob_4  \n",
       "0  1.801262e-08  0.999708  \n",
       "1  5.518995e-08  0.999708  \n",
       "2  7.814338e-09  0.999708  \n",
       "3  6.559484e-09  0.999704  \n",
       "4  1.411263e-08  0.999633  "
      ]
     },
     "execution_count": 16,
     "metadata": {},
     "output_type": "execute_result"
    }
   ],
   "source": [
    "import pandas as pd\n",
    "\n",
    "path = r'D:\\Data Deep Learning\\FINAL-DATASET\\FINAL-DATASET\\result.csv'\n",
    "\n",
    "df = pd.read_csv(path)\n",
    "\n",
    "df.head()"
   ]
  },
  {
   "cell_type": "code",
   "execution_count": 17,
   "metadata": {},
   "outputs": [
    {
     "data": {
      "text/plain": [
       "answer\n",
       "4    34853\n",
       "1    31192\n",
       "0    24481\n",
       "2     1263\n",
       "3       55\n",
       "Name: count, dtype: int64"
      ]
     },
     "execution_count": 17,
     "metadata": {},
     "output_type": "execute_result"
    }
   ],
   "source": [
    "df['answer'].value_counts()"
   ]
  },
  {
   "cell_type": "code",
   "execution_count": 27,
   "metadata": {},
   "outputs": [],
   "source": [
    "# Converting class > 2 to 2\n",
    "\n",
    "df.loc[df['answer'] > 2, 'answer'] = 2\n",
    "\n"
   ]
  },
  {
   "cell_type": "code",
   "execution_count": 28,
   "metadata": {},
   "outputs": [
    {
     "data": {
      "text/plain": [
       "answer\n",
       "2    36171\n",
       "1    31192\n",
       "0    24481\n",
       "Name: count, dtype: int64"
      ]
     },
     "execution_count": 28,
     "metadata": {},
     "output_type": "execute_result"
    }
   ],
   "source": [
    "df['answer'].value_counts()"
   ]
  },
  {
   "cell_type": "code",
   "execution_count": 29,
   "metadata": {},
   "outputs": [
    {
     "data": {
      "text/plain": [
       "{2: 0.8463870688304627, 1: 0.9814909805933145, 0: 1.250548044061381}"
      ]
     },
     "execution_count": 29,
     "metadata": {},
     "output_type": "execute_result"
    }
   ],
   "source": [
    "from sklearn.utils import class_weight\n",
    "\n",
    "class_weights = dict(zip(\n",
    "    df['answer'].unique(),\n",
    "    class_weight.compute_class_weight(\n",
    "        class_weight='balanced', \n",
    "        classes=df['answer'].unique(), \n",
    "        y=df['answer'])\n",
    "))\n",
    "\n",
    "class_weights"
   ]
  }
 ],
 "metadata": {
  "kernelspec": {
   "display_name": "lavis",
   "language": "python",
   "name": "python3"
  },
  "language_info": {
   "codemirror_mode": {
    "name": "ipython",
    "version": 3
   },
   "file_extension": ".py",
   "mimetype": "text/x-python",
   "name": "python",
   "nbconvert_exporter": "python",
   "pygments_lexer": "ipython3",
   "version": "3.8.18"
  }
 },
 "nbformat": 4,
 "nbformat_minor": 2
}
