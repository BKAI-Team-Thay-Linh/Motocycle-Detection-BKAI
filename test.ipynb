{
 "cells": [
  {
   "cell_type": "code",
   "execution_count": 6,
   "metadata": {},
   "outputs": [
    {
     "name": "stdout",
     "output_type": "stream",
     "text": [
      "D:\\Data Deep Learning\\datamotor\\motor\\motor\n"
     ]
    }
   ],
   "source": [
    "data_path = r'D:\\Data Deep Learning\\datamotor\\motor\\motor'\n",
    "\n",
    "print(os.path.abspath(data_path))"
   ]
  },
  {
   "cell_type": "code",
   "execution_count": 12,
   "metadata": {},
   "outputs": [],
   "source": [
    "import json\n",
    "import os\n",
    "from PIL import Image\n",
    "from torchvision import transforms as T\n",
    "from torch.utils.data import Dataset\n",
    "import numpy as np\n",
    "\n",
    "import mortobike_project as mp\n",
    "\n",
    "\n",
    "class MotorBikeDataset(Dataset):\n",
    "    def __init__(self, config_path: str, session: str = 'train', data_mode: str = 'csv', **kwargs):\n",
    "        \"\"\"\n",
    "            In this class, there are two data mode to choose from:\n",
    "            - `csv`: You need to provide a folder containing the images, and a csv file containing the labels\n",
    "\n",
    "            - `ssl`: In this mode, you just need to import list of folder paths, which are divided into classes already\n",
    "\n",
    "        Args:\n",
    "            `config_path` (str): The path to the config file\n",
    "            `session` (str, optional): The session of the dataset, must be in [`train`, `val`, `test`]\n",
    "            `data_mode` (str, optional): The data mode. Defaults to `csv`.\n",
    "            `kwargs`: Other arguments:\n",
    "\n",
    "            - For `csv` mode:\n",
    "                `folder_path` (str): The folder containing the images\n",
    "                `csv_path` (str): The csv file containing the labels\n",
    "            - For `ssl` mode:\n",
    "                'folder_paths' (list): The list of folder paths, each folder path is a string to the folder containing the images of a class\n",
    "        \"\"\"\n",
    "\n",
    "        assert session in ['train', 'val', 'test'], 'Invalid session, must be in [train, val, test]'\n",
    "\n",
    "        assert data_mode in ['csv', 'ssl'], 'Invalid data mode, must be in [csv, ssl]'\n",
    "\n",
    "        self.data_mode = data_mode\n",
    "        self.session = session\n",
    "        self.kwargs = kwargs\n",
    "        self.config_path = config_path\n",
    "\n",
    "        self.labels = {}\n",
    "\n",
    "        if not os.path.exists(config_path):\n",
    "            raise ValueError(f'Config path {config_path} does not exist')\n",
    "\n",
    "        with open(os.path.join(self.config_path, 'class.json'), 'r') as f:\n",
    "            self.config_class: dict = json.load(f)\n",
    "\n",
    "        # Define the image transform\n",
    "        self.transform = mp.Transform(session)\n",
    "\n",
    "        # Load the dataset in the folder\n",
    "        self.load_dataset()\n",
    "\n",
    "    def load_dataset(self):\n",
    "        if self.data_mode == 'csv':\n",
    "            # TODO: Load the dataset from and match the label from the csv file\n",
    "            pass\n",
    "        else:\n",
    "            self.folder_paths = self.kwargs.get('folder_paths', None)\n",
    "\n",
    "            # 1 folder is \"xe_so\", 2 folder is \"xe_ga\", 3, 4, 5 folder is \"others\"\n",
    "            self.classes = os.listdir(self.folder_paths[0])\n",
    "            \n",
    "            for folder in self.folder_paths:\n",
    "                for folder_class in self.classes:\n",
    "                    for img in os.listdir(os.path.join(folder, folder_class)):\n",
    "                        img_path = os.path.join(folder, folder_class, img)\n",
    "                        self.labels[img_path] = int(folder_class) if folder_class in ('1', '2') else 3\n",
    "\n",
    "    def __len__(self):\n",
    "        return len(self.labels)\n",
    "\n",
    "    def __getitem__(self, index):\n",
    "        img_path = list(self.labels.keys())[index]\n",
    "        label = self.labels[img_path]\n",
    "\n",
    "        img = Image.open(img_path).convert('RGB') \n",
    "\n",
    "        if self.transform is not None:\n",
    "            # Convert the image to numpy array\n",
    "            img_np = np.array(img)\n",
    "            \n",
    "            img = self.transform(img_np)\n",
    "\n",
    "        return img, label\n"
   ]
  },
  {
   "cell_type": "code",
   "execution_count": 17,
   "metadata": {},
   "outputs": [
    {
     "data": {
      "text/plain": [
       "(tensor([[[ 0.0741,  0.0569,  0.0227,  ...,  0.3309,  0.3138,  0.3309],\n",
       "          [ 0.2111,  0.1939,  0.1597,  ...,  0.8276,  0.8618,  0.8789],\n",
       "          [ 0.3481,  0.3309,  0.3138,  ...,  0.9988,  1.0331,  1.0502],\n",
       "          ...,\n",
       "          [-0.2513, -0.1657, -0.0629,  ..., -0.1999, -0.0116,  0.2967],\n",
       "          [-0.3712, -0.2856, -0.1486,  ..., -0.1486,  0.0569,  0.3138],\n",
       "          [-0.3883, -0.2856, -0.1486,  ..., -0.0972,  0.1083,  0.3138]],\n",
       " \n",
       "         [[ 0.2052,  0.1877,  0.1527,  ...,  0.4328,  0.4153,  0.4328],\n",
       "          [ 0.3452,  0.3277,  0.2927,  ...,  0.9405,  0.9580,  0.9930],\n",
       "          [ 0.4853,  0.4678,  0.4503,  ...,  1.0980,  1.1331,  1.1506],\n",
       "          ...,\n",
       "          [-0.0749,  0.0126,  0.1352,  ..., -0.9153, -0.7052, -0.3725],\n",
       "          [-0.1975, -0.1099,  0.0301,  ..., -0.8978, -0.6702, -0.3901],\n",
       "          [-0.2150, -0.1099,  0.0301,  ..., -0.8627, -0.6352, -0.4076]],\n",
       " \n",
       "         [[ 0.4265,  0.4091,  0.3742,  ...,  0.4265,  0.4091,  0.4265],\n",
       "          [ 0.5659,  0.5485,  0.5136,  ...,  0.9319,  0.9494,  0.9842],\n",
       "          [ 0.7054,  0.6879,  0.6705,  ...,  1.0888,  1.1411,  1.1585],\n",
       "          ...,\n",
       "          [ 0.4091,  0.4962,  0.6008,  ..., -0.3753, -0.1487,  0.1999],\n",
       "          [ 0.2871,  0.3916,  0.5136,  ..., -0.3404, -0.1138,  0.1999],\n",
       "          [ 0.3045,  0.4091,  0.5311,  ..., -0.3230, -0.0615,  0.1825]]]),\n",
       " 2)"
      ]
     },
     "execution_count": 17,
     "metadata": {},
     "output_type": "execute_result"
    }
   ],
   "source": [
    "dataset = MotorBikeDataset(\n",
    "    config_path='src/mortobike_project/config',\n",
    "    session='test',\n",
    "    data_mode='ssl',\n",
    "    folder_paths=[os.path.join(data_path, x) for x in ('test', 'train', 'val')]\n",
    ")\n",
    "\n",
    "dataset[20000]"
   ]
  },
  {
   "cell_type": "code",
   "execution_count": 21,
   "metadata": {},
   "outputs": [
    {
     "data": {
      "text/plain": [
       "tensor([2, 0, 1])"
      ]
     },
     "execution_count": 21,
     "metadata": {},
     "output_type": "execute_result"
    }
   ],
   "source": [
    "# A sample of y_hat to understand the function y_hat.argmax(dim=1)\n",
    "import torch\n",
    "\n",
    "y = torch.tensor([2, 0, 1, 1]) # 3 samples, each sample has a label\n",
    "\n",
    "y_hat = torch.tensor([\n",
    "    [0.1, 0.2, 0.9], # y_hat[0] = 2\n",
    "    [0.8, 0.1, 0.1], # y_hat[1] = 0\n",
    "    [0.3, 0.6, 0.1]  # y_hat[2] = 1\n",
    "])\n",
    "\n",
    "y_hat.argmax(dim=0) # The index of the max value in each column\n",
    "y_hat.argmax(dim=1) # The index of the max value in each row (sample)"
   ]
  },
  {
   "cell_type": "code",
   "execution_count": 26,
   "metadata": {},
   "outputs": [
    {
     "data": {
      "text/plain": [
       "1.0"
      ]
     },
     "execution_count": 26,
     "metadata": {},
     "output_type": "execute_result"
    }
   ],
   "source": [
    "(y_hat.argmax(dim=1) == y).float().mean().item() # Compare the index of the max value in each row with the label"
   ]
  }
 ],
 "metadata": {
  "kernelspec": {
   "display_name": "lavis",
   "language": "python",
   "name": "python3"
  },
  "language_info": {
   "codemirror_mode": {
    "name": "ipython",
    "version": 3
   },
   "file_extension": ".py",
   "mimetype": "text/x-python",
   "name": "python",
   "nbconvert_exporter": "python",
   "pygments_lexer": "ipython3",
   "version": "3.8.18"
  }
 },
 "nbformat": 4,
 "nbformat_minor": 2
}
